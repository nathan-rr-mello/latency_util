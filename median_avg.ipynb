{
 "cells": [
  {
   "cell_type": "code",
   "execution_count": null,
   "id": "7d6f0f0e",
   "metadata": {},
   "outputs": [
    {
     "name": "stdout",
     "output_type": "stream",
     "text": [
      "US West (Oregon) us-west-2                 131.439091\n",
      "US East (N. Virginia) us-east-1            131.065455\n",
      "US West (N. California) us-west-1          137.443636\n",
      "EU (Ireland) eu-west-1                     141.360000\n",
      "EU (London) eu-west-2                      143.398182\n",
      "Asia Pacific (Tokyo) ap-northeast-1        148.808182\n",
      "EU (Frankfurt) eu-central-1                152.257273\n",
      "Asia Pacific (Singapore) ap-southeast-1    158.861818\n",
      "Asia Pacific (Mumbai) ap-south-1           163.284545\n",
      "Asia Pacific (Seoul) ap-northeast-2        167.562727\n",
      "Asia Pacific (Sydney) ap-southeast-2       191.940909\n",
      "SA (São Paulo) sa-east-1                   231.962727\n",
      "dtype: float64\n",
      "Series([], dtype: float64)\n",
      "median 5.0\n",
      "Median average latency column:\n",
      "Index([], dtype='object') 150.53 ms\n",
      "\n",
      "\n",
      "Sorted latency avg by region:\n",
      "US East (N. Virginia) us-east-1            131.065455\n",
      "US West (Oregon) us-west-2                 131.439091\n",
      "US West (N. California) us-west-1          137.443636\n",
      "EU (Ireland) eu-west-1                     141.360000\n",
      "EU (London) eu-west-2                      143.398182\n",
      "Asia Pacific (Tokyo) ap-northeast-1        148.808182\n",
      "EU (Frankfurt) eu-central-1                152.257273\n",
      "Asia Pacific (Singapore) ap-southeast-1    158.861818\n",
      "Asia Pacific (Mumbai) ap-south-1           163.284545\n",
      "Asia Pacific (Seoul) ap-northeast-2        167.562727\n",
      "Asia Pacific (Sydney) ap-southeast-2       191.940909\n",
      "SA (São Paulo) sa-east-1                   231.962727\n",
      "dtype: float64\n"
     ]
    }
   ],
   "source": [
    "import pandas as pd\n",
    "\n",
    "df = pd.read_csv('filtrado.csv')\n",
    "\n",
    "lat = df.set_index(\"Region\")  # rows = regions\n",
    "\n",
    "# Make a copy and blank the diagonal (self-latency) so it doesn't bias the mean\n",
    "lat_no_self = lat.copy()\n",
    "common = lat_no_self.index.intersection(lat_no_self.columns)\n",
    "for r in common:\n",
    "    lat_no_self.at[r, r] = pd.NA  # or float(\"nan\")\n",
    "\n",
    "col_avg = lat_no_self.mean(axis=0, skipna=True)  # average latency TO each region\n",
    "median = col_avg.median()\n",
    "median_region = col_avg[col_avg == median].index\n",
    "col_avg.where()\n",
    "print(col_avg)\n",
    "print(col_avg[col_avg == median])\n",
    "\n",
    "print(\"median\", pd.Series([1, 2, 5, 7, 9]).median())\n",
    "\n",
    "print(\"Median average latency column:\")\n",
    "print(median_region, f\"{median:.2f} ms\")\n",
    "\n",
    "print(\"\\n\\nSorted latency avg by region:\")\n",
    "print(col_avg.sort_values())"
   ]
  }
 ],
 "metadata": {
  "kernelspec": {
   "display_name": "Python 3",
   "language": "python",
   "name": "python3"
  },
  "language_info": {
   "codemirror_mode": {
    "name": "ipython",
    "version": 3
   },
   "file_extension": ".py",
   "mimetype": "text/x-python",
   "name": "python",
   "nbconvert_exporter": "python",
   "pygments_lexer": "ipython3",
   "version": "3.9.6"
  }
 },
 "nbformat": 4,
 "nbformat_minor": 5
}
