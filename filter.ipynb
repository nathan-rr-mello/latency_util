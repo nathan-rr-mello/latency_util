{
 "cells": [
  {
   "cell_type": "code",
   "execution_count": 9,
   "id": "9dc6baf6",
   "metadata": {},
   "outputs": [
    {
     "name": "stdout",
     "output_type": "stream",
     "text": [
      "                                 Region  US West (Oregon) us-west-2  US East (N. Virginia) us-east-1  US West (N. California) us-west-1  EU (Ireland) eu-west-1  EU (London) eu-west-2  Asia Pacific (Tokyo) ap-northeast-1  EU (Frankfurt) eu-central-1  Asia Pacific (Singapore) ap-southeast-1  Asia Pacific (Mumbai) ap-south-1  Asia Pacific (Seoul) ap-northeast-2  Asia Pacific (Sydney) ap-southeast-2  SA (São Paulo) sa-east-1\n",
      "    Asia Pacific (Tokyo) ap-northeast-1                      100.51                           154.82                             110.75                  203.43                 212.24                                 3.69                       232.69                                    78.51                            134.83                                35.67                                114.19                    259.44\n",
      "    Asia Pacific (Seoul) ap-northeast-2                      126.77                           183.30                             138.41                  235.02                 243.28                                35.53                       237.39                                    75.21                            130.01                                 2.66                                147.75                    290.52\n",
      "       Asia Pacific (Mumbai) ap-south-1                      231.86                           188.68                             241.08                  124.94                 115.65                               135.00                       119.90                                    59.92                              2.61                               130.83                                149.74                    303.59\n",
      "Asia Pacific (Singapore) ap-southeast-1                      176.35                           225.64                             184.73                  181.07                 171.24                                78.33                       163.65                                     2.47                             59.63                                75.21                                 94.41                    334.15\n",
      "   Asia Pacific (Sydney) ap-southeast-2                      141.17                           199.68                             139.84                  257.26                 265.49                               113.45                       283.17                                    94.01                            148.41                               146.93                                  3.53                    312.86\n",
      "            EU (Frankfurt) eu-central-1                      143.31                            90.98                             151.74                   26.13                  16.07                               232.23                         3.05                                   163.74                            118.50                               236.81                                283.19                    205.50\n",
      "                 EU (Ireland) eu-west-1                      122.92                            69.44                             140.23                    2.66                  13.59                               204.18                        27.05                                   182.15                            124.90                               235.55                                259.03                    181.73\n",
      "                  EU (London) eu-west-2                      129.93                            77.52                             139.43                   12.68                   3.00                               211.03                        16.50                                   170.85                            114.12                               242.13                                265.73                    188.90\n",
      "               SA (São Paulo) sa-east-1                      178.02                           116.92                             178.06                  181.14                 189.73                               259.07                       205.43                                   333.64                            302.71                               289.95                                313.04                      3.91\n",
      "        US East (N. Virginia) us-east-1                       72.67                             5.06                              64.61                   70.45                  79.25                               156.97                        93.01                                   227.86                            190.43                               184.59                                202.13                    118.54\n",
      "      US West (N. California) us-west-1                       22.32                            63.16                               2.70                  139.32                 139.77                               109.98                       151.94                                   184.31                            239.44                               137.70                                140.01                    177.53\n",
      "             US West (Oregon) us-west-2                        3.08                            71.58                              23.00                  123.52                 131.07                               101.12                       144.10                                   177.28                            233.15                               127.82                                142.13                    178.83\n"
     ]
    }
   ],
   "source": [
    "import pandas as pd\n",
    "\n",
    "df = pd.read_csv('aws.csv')\n",
    "\n",
    "regions = [\n",
    "    \"US West (Oregon) us-west-2\",\n",
    "    \"US East (N. Virginia) us-east-1\",\n",
    "    \"US West (N. California) us-west-1\",\n",
    "    \"EU (Ireland) eu-west-1\",\n",
    "    \"EU (London) eu-west-2\",\n",
    "    \"Asia Pacific (Tokyo) ap-northeast-1\",\n",
    "    \"EU (Frankfurt) eu-central-1\",\n",
    "    \"Asia Pacific (Singapore) ap-southeast-1\",\n",
    "    \"Asia Pacific (Mumbai) ap-south-1\",\n",
    "    \"Asia Pacific (Seoul) ap-northeast-2\",\n",
    "    \"Asia Pacific (Sydney) ap-southeast-2\",\n",
    "    \"SA (São Paulo) sa-east-1\"\n",
    "]\n",
    "\n",
    "cols = [\"Region\"] + regions\n",
    "subset = df[cols]\n",
    "\n",
    "subset_filtrado = subset[subset[\"Region\"].isin(regions)]\n",
    "\n",
    "subset_filtrado.to_csv('filtrado.csv', index=False)\n",
    "\n",
    "print(subset_filtrado.to_string(index=False))"
   ]
  }
 ],
 "metadata": {
  "kernelspec": {
   "display_name": "Python 3",
   "language": "python",
   "name": "python3"
  },
  "language_info": {
   "codemirror_mode": {
    "name": "ipython",
    "version": 3
   },
   "file_extension": ".py",
   "mimetype": "text/x-python",
   "name": "python",
   "nbconvert_exporter": "python",
   "pygments_lexer": "ipython3",
   "version": "3.9.6"
  }
 },
 "nbformat": 4,
 "nbformat_minor": 5
}
