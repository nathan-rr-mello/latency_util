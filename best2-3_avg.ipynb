{
 "cells": [
  {
   "cell_type": "code",
   "execution_count": 4,
   "id": "42fa2a83",
   "metadata": {},
   "outputs": [
    {
     "name": "stdout",
     "output_type": "stream",
     "text": [
      "latencia por zona US West (Oregon) us-west-2                 107.45000\n",
      "US East (N. Virginia) us-east-1            103.46500\n",
      "US West (N. California) us-west-1          113.50125\n",
      "EU (Ireland) eu-west-1                     107.40625\n",
      "EU (London) eu-west-2                      107.04625\n",
      "Asia Pacific (Tokyo) ap-northeast-1        116.82000\n",
      "EU (Frankfurt) eu-central-1                115.19750\n",
      "Asia Pacific (Singapore) ap-southeast-1    125.20875\n",
      "Asia Pacific (Mumbai) ap-south-1           127.60375\n",
      "Asia Pacific (Seoul) ap-northeast-2        134.28750\n",
      "Asia Pacific (Sydney) ap-southeast-2       156.17375\n",
      "SA (São Paulo) sa-east-1                   200.12375\n",
      "dtype: float64\n",
      "US East (N. Virginia) us-east-1 103.465\n"
     ]
    }
   ],
   "source": [
    "import pandas as pd\n",
    "import math\n",
    "\n",
    "df = pd.read_csv('filtrado.csv')\n",
    "\n",
    "lat = df.set_index(\"Region\")  # rows = regions\n",
    "\n",
    "# Make a copy and blank the diagonal (self-latency) so it doesn't bias the mean\n",
    "lat_no_self = lat.copy()\n",
    "common = lat_no_self.index.intersection(lat_no_self.columns)\n",
    "for r in common:\n",
    "    lat_no_self.at[r, r] = pd.NA  # or float(\"nan\")\n",
    "\n",
    "col_avg = lat_no_self.mean(axis=0, skipna=True)  # average latency TO each region\n",
    "lat_vals = lat_no_self.stack()              # MultiIndex (origem, destino)\n",
    "\n",
    "latencia_por_zona = pd.Series()\n",
    "for c in lat_no_self.columns:\n",
    "    s = lat_no_self[c].dropna()\n",
    "    n = len(s)\n",
    "    k = math.ceil(2 * len(s) / 3)\n",
    "    menores_2_3 = s.nsmallest(k)\n",
    "    latencia_por_zona[c] = menores_2_3.mean(axis=0)\n",
    "\n",
    "print(\"latencia por zona\", latencia_por_zona)\n",
    "\n",
    "res = latencia_por_zona.min()\n",
    "\n",
    "print(latencia_por_zona.idxmin(), latencia_por_zona.min())\n",
    "\n"
   ]
  }
 ],
 "metadata": {
  "kernelspec": {
   "display_name": "Python 3",
   "language": "python",
   "name": "python3"
  },
  "language_info": {
   "codemirror_mode": {
    "name": "ipython",
    "version": 3
   },
   "file_extension": ".py",
   "mimetype": "text/x-python",
   "name": "python",
   "nbconvert_exporter": "python",
   "pygments_lexer": "ipython3",
   "version": "3.9.6"
  }
 },
 "nbformat": 4,
 "nbformat_minor": 5
}
