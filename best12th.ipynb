{
 "cells": [
  {
   "cell_type": "code",
   "execution_count": null,
   "id": "7d6fca9f",
   "metadata": {},
   "outputs": [
    {
     "name": "stdout",
     "output_type": "stream",
     "text": [
      "Region\n",
      "Asia Pacific (Tokyo) ap-northeast-1        100.51\n",
      "Asia Pacific (Seoul) ap-northeast-2        126.77\n",
      "Asia Pacific (Mumbai) ap-south-1           231.86\n",
      "Asia Pacific (Singapore) ap-southeast-1    176.35\n",
      "Asia Pacific (Sydney) ap-southeast-2       141.17\n",
      "EU (Frankfurt) eu-central-1                143.31\n",
      "EU (Ireland) eu-west-1                     122.92\n",
      "EU (London) eu-west-2                      129.93\n",
      "SA (São Paulo) sa-east-1                   178.02\n",
      "US East (N. Virginia) us-east-1             72.67\n",
      "US West (N. California) us-west-1           22.32\n",
      "US West (Oregon) us-west-2                    NaN\n",
      "Name: US West (Oregon) us-west-2, dtype: float64\n",
      "12\n",
      "US West (Oregon) us-west-2 143.31\n"
     ]
    }
   ],
   "source": [
    "import pandas as pd\n",
    "import math\n",
    "\n",
    "df = pd.read_csv('filtrado.csv')\n",
    "\n",
    "lat = df.set_index(\"Region\")  # rows = regions\n",
    "\n",
    "# Make a copy and blank the diagonal (self-latency) so it doesn't bias the mean\n",
    "lat_no_self = lat.copy()\n",
    "common = lat_no_self.index.intersection(lat_no_self.columns)\n",
    "for r in common:\n",
    "    lat_no_self.at[r, r] = pd.NA  # or float(\"nan\")\n",
    "\n",
    "latencia_por_zona = pd.Series()\n",
    "for c in lat_no_self.columns:\n",
    "    s = lat_no_self[c].dropna()\n",
    "    n = len(s)\n",
    "    k = math.ceil(2 * n / 3)\n",
    "    last = s.nsmallest(k).iat[-1]\n",
    "    latencia_por_zona[c] = last\n",
    "\n",
    "print(latencia_por_zona.idxmin(), latencia_por_zona.min())"
   ]
  }
 ],
 "metadata": {
  "kernelspec": {
   "display_name": "Python 3",
   "language": "python",
   "name": "python3"
  },
  "language_info": {
   "codemirror_mode": {
    "name": "ipython",
    "version": 3
   },
   "file_extension": ".py",
   "mimetype": "text/x-python",
   "name": "python",
   "nbconvert_exporter": "python",
   "pygments_lexer": "ipython3",
   "version": "3.9.6"
  }
 },
 "nbformat": 4,
 "nbformat_minor": 5
}
