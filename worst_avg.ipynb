{
 "cells": [
  {
   "cell_type": "code",
   "execution_count": null,
   "id": "1380438a",
   "metadata": {},
   "outputs": [],
   "source": [
    "import pandas as pd\n",
    "\n",
    "df = pd.read_csv('filtrado.csv')\n",
    "\n",
    "lat = df.set_index(\"Region\")  # rows = regions\n",
    "\n",
    "# Make a copy and blank the diagonal (self-latency) so it doesn't bias the mean\n",
    "lat_no_self = lat.copy()\n",
    "common = lat_no_self.index.intersection(lat_no_self.columns)\n",
    "for r in common:\n",
    "    lat_no_self.at[r, r] = pd.NA  # or float(\"nan\")\n",
    "\n",
    "col_avg = lat_no_self.mean(axis=0, skipna=True)  # average latency TO each region\n",
    "worst_region = col_avg.idxmax()\n",
    "worst_avg_value = col_avg.max()\n",
    "\n",
    "print(\"Worst (highest) average latency column:\")\n",
    "print(worst_region, f\"{worst_avg_value:.2f} ms\")\n",
    "\n",
    "print(\"\\n\\nSorted latency avg by region:\")\n",
    "print(col_avg.sort_values(ascending=False))"
   ]
  }
 ],
 "metadata": {
  "language_info": {
   "name": "python"
  }
 },
 "nbformat": 4,
 "nbformat_minor": 5
}
